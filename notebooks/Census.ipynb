{
 "cells": [
  {
   "cell_type": "code",
   "execution_count": 8,
   "metadata": {},
   "outputs": [],
   "source": [
    "import seaborn as sns\n",
    "import metapack as mp\n",
    "import pandas as pd\n",
    "import geopandas as gpd\n",
    "import numpy as np\n",
    "import matplotlib.pyplot as plt\n",
    "from IPython.display import display \n",
    "\n",
    "%matplotlib inline\n",
    "sns.set_context('notebook')\n",
    "mp.jupyter.init()\n"
   ]
  },
  {
   "cell_type": "code",
   "execution_count": 2,
   "metadata": {},
   "outputs": [
    {
     "data": {
      "text/html": [
       "<h1>Data for the Radius Search application</h1>\n",
       "<p><code>civicknowledge.com-radius-1.2.1</code> Last Update: 2021-04-23T19:55:33</p>\n",
       "<p>__</p>\n",
       "<h2>Contacts</h2>\n",
       "<ul>\n",
       "<li><strong>Wrangler</strong> <a href=\"mailto:eric@civicknowledge.com\">Eric Busboom</a>, <a href=\"http://civicknowledge.com\">Civic Knowledge</a></li>\n",
       "</ul>\n",
       "<h2>References</h2>\n",
       "<ul><li> <strong>us_tracts</string>, <em>index:civicknowledge.com-geohash-us#us_tracts</em>. </li><li> <strong>utm_buffered_zones</string>, <em>index:civicknowledge.com-geohash-us#utm_buffered_zones</em>. </li><li> <strong>us_geohashes</string>, <em>index:civicknowledge.com-geohash-us#us_geohashes</em>. </li><li> <strong>census_set</string>, <em>index:civicknowledge.com-census-demosearch#census_set</em>. </li><li> <strong>utm_bands</string>, <em>metapack+http://s3.amazonaws.com/radius.civicknowledge.com/civicknowledge.com-mgrs.csv#utm_bands</em>. UTM bands as polygons</li><li> <strong>utm_bands_buffered</string>, <em>metapack+http://s3.amazonaws.com/radius.civicknowledge.com/civicknowledge.com-mgrs.csv#utm_bands_buffered</em>. UTM band polygons, buffered by 10Km</li><li> <strong>point_tags</string>, <em>index:civicknowledge.com-osm-demosearch#point_tags</em>. </li><li> <strong>nonres_roads</string>, <em>index:civicknowledge.com-osm-demosearch#nonres_roads</em>. </li><li> <strong>residential_roads</string>, <em>index:civicknowledge.com-osm-demosearch#residential_roads</em>. </li><li> <strong>bus_densities</string>, <em>index:civicknowledge.com-osm-demosearch#bus_densities</em>. </li><li> <strong>us_starbucks</string>, <em>index:chrismeller.github.com-starbucks#us_starbucks</em>. </li><ul>"
      ],
      "text/plain": [
       "# Data for the Radius Search application\n",
       "`civicknowledge.com-radius-1.2.1` Last Update: 2021-04-23T19:55:33\n",
       "\n",
       "__\n",
       "\n",
       "\n",
       "\n",
       "\n",
       " \n",
       "\n",
       "## Contacts\n",
       "\n",
       "* **Wrangler** [Eric Busboom](mailto:eric@civicknowledge.com), [Civic Knowledge](http://civicknowledge.com)\n",
       "\n",
       "\n",
       "## References\n",
       "<ul><li> <strong>us_tracts</string>, <em>index:civicknowledge.com-geohash-us#us_tracts</em>. </li><li> <strong>utm_buffered_zones</string>, <em>index:civicknowledge.com-geohash-us#utm_buffered_zones</em>. </li><li> <strong>us_geohashes</string>, <em>index:civicknowledge.com-geohash-us#us_geohashes</em>. </li><li> <strong>census_set</string>, <em>index:civicknowledge.com-census-demosearch#census_set</em>. </li><li> <strong>utm_bands</string>, <em>metapack+http://s3.amazonaws.com/radius.civicknowledge.com/civicknowledge.com-mgrs.csv#utm_bands</em>. UTM bands as polygons</li><li> <strong>utm_bands_buffered</string>, <em>metapack+http://s3.amazonaws.com/radius.civicknowledge.com/civicknowledge.com-mgrs.csv#utm_bands_buffered</em>. UTM band polygons, buffered by 10Km</li><li> <strong>point_tags</string>, <em>index:civicknowledge.com-osm-demosearch#point_tags</em>. </li><li> <strong>nonres_roads</string>, <em>index:civicknowledge.com-osm-demosearch#nonres_roads</em>. </li><li> <strong>residential_roads</string>, <em>index:civicknowledge.com-osm-demosearch#residential_roads</em>. </li><li> <strong>bus_densities</string>, <em>index:civicknowledge.com-osm-demosearch#bus_densities</em>. </li><li> <strong>us_starbucks</string>, <em>index:chrismeller.github.com-starbucks#us_starbucks</em>. </li><ul>\n"
      ]
     },
     "execution_count": 2,
     "metadata": {},
     "output_type": "execute_result"
    }
   ],
   "source": [
    "#pkg = mp.jupyter.open_package()\n",
    "pkg = mp.jupyter.open_source_package()\n",
    "pkg"
   ]
  },
  {
   "cell_type": "code",
   "execution_count": 14,
   "metadata": {},
   "outputs": [
    {
     "data": {
      "text/plain": [
       "'b01001_020,b01001_021,b01001_022,b01001_023,b01001_024,b01001_025,b01001_044,b01001_045,b01001_046,b01001_047,b01001_048,b01001_049'"
      ]
     },
     "execution_count": 14,
     "metadata": {},
     "output_type": "execute_result"
    }
   ],
   "source": [
    "','.join(['b01001_020', 'b01001_021', 'b01001_022', 'b01001_023', 'b01001_024', 'b01001_025',\n",
    "               'b01001_044', 'b01001_045', 'b01001_046', 'b01001_047', 'b01001_048', 'b01001_049'])"
   ]
  },
  {
   "cell_type": "code",
   "execution_count": null,
   "metadata": {},
   "outputs": [],
   "source": []
  }
 ],
 "metadata": {
  "kernelspec": {
   "display_name": "Python 3",
   "language": "python",
   "name": "python3"
  },
  "language_info": {
   "codemirror_mode": {
    "name": "ipython",
    "version": 3
   },
   "file_extension": ".py",
   "mimetype": "text/x-python",
   "name": "python",
   "nbconvert_exporter": "python",
   "pygments_lexer": "ipython3",
   "version": "3.8.8"
  }
 },
 "nbformat": 4,
 "nbformat_minor": 4
}
